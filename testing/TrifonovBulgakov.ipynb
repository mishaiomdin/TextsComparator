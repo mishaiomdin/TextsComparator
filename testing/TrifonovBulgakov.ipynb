{
 "cells": [
  {
   "cell_type": "code",
   "execution_count": 1,
   "id": "a6fa782b-5a61-45ec-8edd-f10019c22403",
   "metadata": {},
   "outputs": [],
   "source": [
    "# Landing in the previous directory\n",
    "\n",
    "import sys\n",
    "sys.path.insert(1, '../')"
   ]
  },
  {
   "cell_type": "code",
   "execution_count": 3,
   "id": "dd1ac2db-0770-4971-9bdb-f188a19a54ba",
   "metadata": {},
   "outputs": [],
   "source": [
    "import TextsComparator as tc"
   ]
  },
  {
   "cell_type": "code",
   "execution_count": null,
   "id": "ba30bc18-88ec-4a9f-a42c-ca6a3298885d",
   "metadata": {},
   "outputs": [],
   "source": [
    "tc.get_word_frequency("
   ]
  },
  {
   "cell_type": "code",
   "execution_count": null,
   "id": "cf48c963-be17-457e-9167-23f4cc50d1db",
   "metadata": {},
   "outputs": [],
   "source": []
  }
 ],
 "metadata": {
  "kernelspec": {
   "display_name": "Python 3 (ipykernel)",
   "language": "python",
   "name": "python3"
  },
  "language_info": {
   "codemirror_mode": {
    "name": "ipython",
    "version": 3
   },
   "file_extension": ".py",
   "mimetype": "text/x-python",
   "name": "python",
   "nbconvert_exporter": "python",
   "pygments_lexer": "ipython3",
   "version": "3.9.5"
  }
 },
 "nbformat": 4,
 "nbformat_minor": 5
}
